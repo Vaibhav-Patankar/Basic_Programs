{
 "cells": [
  {
   "cell_type": "code",
   "execution_count": null,
   "metadata": {},
   "outputs": [],
   "source": [
    "'''\n",
    "Name : pi.py\n",
    "Purpose : Get the value of PI to n number of decimal places.\n",
    "Author : Vaibhav Patankar\n",
    "'''\n",
    "import math, sys\n",
    "\n",
    "def factorial(n):\n",
    "    '''\n",
    "    Return the factorial of a number using recursion\n",
    "    '''\n",
    "    if not n:\n",
    "        return 1\n",
    "    return n*factorial(n-1)"
   ]
  },
  {
   "cell_type": "code",
   "execution_count": null,
   "metadata": {},
   "outputs": [],
   "source": [
    "'''\n",
    "Purpose : Number of digits you want after the decimal for e\n",
    "'''\n",
    "import math\n",
    "\n",
    "def calculate(val):\n",
    "    Value1 = round(math.e, val)\n",
    "    e = str(Value1)\n",
    "    List = list(e)\n",
    "    return(e)\n",
    "\n",
    "roundOff = input('Number of digits you want after the decimal for e :')\n",
    "\n",
    "try:\n",
    "    \n",
    "    roundint = int(roundOff)\n",
    "    print(calculate(roundint))\n",
    "except:\n",
    "    \n",
    "    print('You did not enter an integer :')"
   ]
  },
  {
   "cell_type": "code",
   "execution_count": null,
   "metadata": {},
   "outputs": [],
   "source": [
    "'''\n",
    "Purpose : Fibonacci Sequence Generator\n",
    "'''\n",
    "\n",
    "def fibonacci(num):\n",
    "    '''\n",
    "    Generating fibonacci sequence with size n\n",
    "    '''\n",
    "    assert num>=0,'num should be greater than 0'\n",
    "    n1, n2 = 0, 1\n",
    "    count = 0\n",
    "    \n",
    "    #check if the number is valid\n",
    "    if num == 1:\n",
    "        print('Fibonacci sequence upto',num,':',end = ' ')\n",
    "        print(n1)\n",
    "    else:\n",
    "        print('Fibonacci sequence :',end = ' ')\n",
    "        while count < num:\n",
    "            print(n1,end = ' ')\n",
    "            temp = n1 + n2\n",
    "            n1 = n2\n",
    "            n2 = temp\n",
    "            count += 1\n",
    "    \n",
    "        \n",
    "        "
   ]
  },
  {
   "cell_type": "code",
   "execution_count": null,
   "metadata": {},
   "outputs": [],
   "source": [
    "# Program to check if a number is prime or not\n",
    "\n",
    "# To take input from the user\n",
    "num = int(input(\"Enter a number: \"))\n",
    "# prime numbers are greater than 1\n",
    "if num > 1:\n",
    "   # check for factors\n",
    "   for i in range(2,num):\n",
    "        \n",
    "        if (num % i) == 0:\n",
    "            print(num,\"is not a prime number\")\n",
    "            print(i,\"times\",num//i,\"is\",num)\n",
    "            break\n",
    "        else:\n",
    "            print(\"is a prime number\")\n",
    "            break\n",
    "       \n",
    "    # if input number is less than or equal to 1\n",
    "else:\n",
    "    print(num,\"is not a prime number\")"
   ]
  },
  {
   "cell_type": "code",
   "execution_count": null,
   "metadata": {},
   "outputs": [],
   "source": [
    "'''\n",
    "Problem : Calculate tax on the basis of cost and tax rate\n",
    "'''\n",
    "#Asks the user to enter a cost and either a country or state tax. \n",
    "#It then returns the tax plus the total cost with tax.\n",
    "\n",
    "cost = input('Cost :')\n",
    "\n",
    "rate = input('What is the tax rate? (in %) :')\n",
    "\n",
    "rate = float(rate) / 100\n",
    "\n",
    "tax = float(rate) * float(cost)\n",
    "\n",
    "tc = tax + float(cost)\n",
    "\n",
    "print('Tax cost : ' + str(tax))\n",
    "print('Total cost inc all taxes: ' + str(tc))"
   ]
  },
  {
   "cell_type": "code",
   "execution_count": null,
   "metadata": {},
   "outputs": [],
   "source": [
    "'''\n",
    "Problem : Coin Flip Simulation\n",
    "'''\n",
    "import random\n",
    "times = int(input('Enter no. of times coins to be flipped :'))\n",
    "def coin_flip(times):\n",
    "    heads=0\n",
    "    tails=0\n",
    "    for x in range(times):\n",
    "        i=random.choice([0,1])\n",
    "        if i==0:\n",
    "            heads+=1\n",
    "            print ('heads')\n",
    "        else:\n",
    "            tails+=1\n",
    "            print('tails')\n",
    "    print ('heads: ' + str(heads))\n",
    "    print ('tails: ' + str(tails))\n",
    "coin_flip(times)"
   ]
  },
  {
   "cell_type": "code",
   "execution_count": null,
   "metadata": {},
   "outputs": [],
   "source": [
    "def reverse(some_seq):\n",
    "        \"\"\"\n",
    "            Input:     Sequence\n",
    "            output:    Sequence:\n",
    "                         reversed version\n",
    "        \"\"\"\n",
    "        return some_seq[::-1]"
   ]
  },
  {
   "cell_type": "code",
   "execution_count": null,
   "metadata": {},
   "outputs": [],
   "source": [
    "def count_vowels(string):\n",
    "        \"\"\"\n",
    "            @param string:   String\n",
    "            @return:         Integer:\n",
    "                                No. of vowels or 0\n",
    "        \"\"\"\n",
    "        vowels      = \"aeiou\"\n",
    "        count       = {char:0 for char in vowels}\n",
    "        for char in string:\n",
    "            if char in vowels:\n",
    "                count[char] += 1\n",
    "        return count"
   ]
  },
  {
   "cell_type": "code",
   "execution_count": null,
   "metadata": {},
   "outputs": [],
   "source": [
    "def is_palindrome(some_seq):\n",
    "        \"\"\"\n",
    "            @param some_seq: sequence of anything\n",
    "            @return:         Boolean:\n",
    "                        palindrome check of sequence passed \n",
    "        \"\"\"\n",
    "        return some_seq == reverse(some_seq)\n"
   ]
  },
  {
   "cell_type": "code",
   "execution_count": null,
   "metadata": {},
   "outputs": [],
   "source": [
    "'''\n",
    "Checking manually using slicing\n",
    "'''\n",
    "seq = input('Enter string to check :')\n",
    "def palindrome(seq):\n",
    "    '''\n",
    "    checking if entered and reversed is same\n",
    "    '''\n",
    "    if seq[::1] == seq[::-1]:\n",
    "        print('String is palindrome...')\n",
    "    else:\n",
    "        print('String is not palindrome!!!!!')\n",
    "palindrome(seq)"
   ]
  }
 ],
 "metadata": {
  "kernelspec": {
   "display_name": "Python 3",
   "language": "python",
   "name": "python3"
  },
  "language_info": {
   "codemirror_mode": {
    "name": "ipython",
    "version": 3
   },
   "file_extension": ".py",
   "mimetype": "text/x-python",
   "name": "python",
   "nbconvert_exporter": "python",
   "pygments_lexer": "ipython3",
   "version": "3.7.4"
  }
 },
 "nbformat": 4,
 "nbformat_minor": 2
}
